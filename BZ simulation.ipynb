{
 "cells": [
  {
   "cell_type": "markdown",
   "metadata": {},
   "source": [
    "# Simulazione cinetica della reazione di Belousov–Zhabotinsky"
   ]
  },
  {
   "cell_type": "markdown",
   "metadata": {},
   "source": [
    "Nel 1951 Boris Belousov scopre una reazione chimica oscillante tra bromato di potassio $KBrO_3$, cerio (VI) $Ce(SO_4)_2$, acido malonico $CH_2(COOH)_2$, acido citrico $C_6H_8O_7$ e acido solforico $H_2SO_4$. Nel 1972 Field, Körös, e Noyes ne dedussero un meccanismo a 10 stadi in grado di descriverla. Nel 1973 Field e Noyes trovano una modellazione matematica del meccanismo in grado di ridurlo a 5 passaggi che involvono 3 indipendenti intermedi chimici, che chiamarono Oregonator.  "
   ]
  },
  {
   "cell_type": "markdown",
   "metadata": {},
   "source": [
    "## Natura della reazione"
   ]
  },
  {
   "cell_type": "markdown",
   "metadata": {},
   "source": [
    "![Fig. 1](Oscillatory-behaviour-in-the-BZ-reaction-showing-induction-period-A-D-followed-by.png)\n",
    "<center><i> Fig. 1 linea inferiore: traccia potenziometrica di un elettrodo sensibile allo ione $[Br^-]$</i></center>"
   ]
  },
  {
   "cell_type": "markdown",
   "metadata": {},
   "source": [
    "Come si può vedere dalla Figura 1, possiamo dividere il processo in sei sezioni distinte:\n",
    "- [A,B], chiamato periodo di _Bray_, caratterizzato dalla rapida consumazione dello ione bromuro $[Br^-]$ \n",
    "- [C,D], chiamato periodo di _Induzione_, caratterizzato dalla presenza di una bassa concentrazione di ioni $[Br^-]$\n",
    "- [E,F], chiamato periodo di _lenta consumazione_ dello ione $[Br^-]$ (rispetto al periodo di Bray) \n",
    "- [F,G], chiamato periodo di _veloce consumazione_ dello ione $[Br^-]$\n",
    "- [G,H], chiamato periodo di _lenta produzione_ dello ione $[Br^-]$\n",
    "- [H,E], chiamato periodo di _veloce produzione_ dello ione $[Br^-]$\n",
    "\n",
    "Questo portò gli autori del meccanismo a valutare tre reazioni complessive (virtualmente irreversibili):\n",
    "\n",
    "1. $BrO_3^- + 2Br^- + 3CH_2(COOH)_2 + 3H^+ \\rightarrow 3BrCH(COOH)_2 + 3H_2O$\n",
    "2. $BrO_3^- + 4Ce^{3+} + CH_2(COOH)_2 + 5H^+ \\rightarrow BrCH(COOH)_2 + 4Ce^{4+} + 3H_2O$\n",
    "3. $4Ce^{4+} + BrCH(COOH)_2 + 2H_2O \\rightarrow Br^- + 4Ce^{3+} + HCOOH + 2CO_2 + 5H^+$"
   ]
  },
  {
   "cell_type": "markdown",
   "metadata": {},
   "source": [
    "## Stechiometria della reazione"
   ]
  },
  {
   "cell_type": "markdown",
   "metadata": {},
   "source": [
    "Da considerazioni globali sulla stechiometria si deduce che l'acido solforico è la sostanza presente in maggior concentrazione molare, l'acido malonico e lo ione bromato sono presenti a concentrazioni molari intermedie e infine le concentrazioni delle specie contenenti il cerio sono presenti con concentrazioni catalitiche molto minori rispetto alle altre sopra citate. \n",
    "Inoltre l'unica altra specie inorganica presente in concentrazione molare aprezzabile è il bromo elementare in equilibrio con un eccesso di acido bromico, e che la prima specie indicata reagisce irreversibilmente con l'acido malonico, le specie del bromo eccetto il bromato posso esistere in concentrazioni apprezzabili solo per periodi transienti in stati stazionari, altrimenti il bromo si troverà legato a specie organiche. \n",
    "Il processo generale è guidato quindi dalla variazione di energia libera della reazione:\n",
    "\n",
    "4. $3BrO_3^- + 5CH_2(COOH)_2 + 3H^+ \\rightarrow 3BrCH(COOH)_2 + 2HCOOH + 4CO_2 + 5H_2O$"
   ]
  },
  {
   "cell_type": "markdown",
   "metadata": {},
   "source": [
    "## Termodinamica della reazione"
   ]
  },
  {
   "cell_type": "markdown",
   "metadata": {},
   "source": [
    "In soluzione acida esistono le seguenti specie chimiche del bromo con numero di ossidazione dispari (presenti in forma di singoletti): $Br^-$, $HOBr$, $HBrO_2$, $BrO_3^-$, $BrO_4^-$, il trasferimento di protoni tra una e l'altra specie è virtualmente istantaneo (l'equilibrio è immediato). Altre specie rilevanti per il meccanismo sono: i radicali $Br\\cdot$, $BrO\\cdot$, $BrO_2\\cdot$ e i dimeri (in forma di singoletti) $Br_2$, $Br_2O_4$.\n",
    "Le specie monobromiche sotto forma di singoletti possono essere interconvertite per reazioni di scambio con l'ossigeno:\n",
    "\n",
    "<ol start=\"5\">\n",
    "    <li> <div style='width:50%; display:inline-block; text-align:left;'> $HOBr + Br^- + H^+ \\rightarrow Br_2 + H_2O$ </div> <div style='width:49%; display:inline-block; text-align:left'>$\\Delta G=-11.2$ $Kcal/mol$</div> \n",
    "    </li>\n",
    "    <li> <div style='width:50%; display:inline-block; text-align:left;'> $HBrO_2 + Br^- + H^+ \\rightarrow 2HOBr$ </div> <div style='width:49%; display:inline-block; text-align:left'>$\\Delta G=-19.0$ $Kcal/mol$</div> \n",
    "    </li>\n",
    "    <li> <div style='width:50%; display:inline-block; text-align:left;'> $BrO_3^- + Br^- + 2H^+ \\rightarrow HBrO_2 + HOBr$ </div> <div style='width:49%; display:inline-block; text-align:left'>$\\Delta G=4.2$ $Kcal/mol$</div> \n",
    "    </li>\n",
    "    <li> <div style='width:50%; display:inline-block; text-align:left;'> $2HBrO_2 \\rightarrow BrO_3^- + HOBr + H^+$ </div> <div style='width:49%; display:inline-block; text-align:left'>$\\Delta G=-23.2$ $Kcal/mol$</div> \n",
    "    </li>\n",
    "</ol>"
   ]
  },
  {
   "cell_type": "markdown",
   "metadata": {},
   "source": [
    "L'analisi della termodinamica dei radicali del bromo può essere riassunta per quanto riguarda l'interesse di questa reazione a:\n",
    "\n",
    "<ol start=\"9\">\n",
    "    <li> <div style='width:50%; display:inline-block; text-align:left;'> $BrO_3^- + HBrO_2 + H^+ \\rightarrow 2BrO_2\\cdot + H_2O$ </div> <div style='width:49%; display:inline-block; text-align:left'>$\\Delta G=-11.2$ $Kcal/mol$</div> \n",
    "    </li>\n",
    "</ol>"
   ]
  },
  {
   "cell_type": "markdown",
   "metadata": {},
   "source": [
    "Le reazioni sopra indicate, combinate con i potenziali di riduzione del cerio, forniscono l'informazione per dei possibili cambiamenti di ossidazione, che si possono riassumere:\n",
    "\n",
    "<ul>\n",
    "    <li> L'acido bromico non può essere ossidato dal cerio (III) in acido perclorico\n",
    "    </li>\n",
    "    <li> quando il cerio (III) viene ossidato dal bromuro in acido solforico, il prodotto finale più stabile è il bromo elementare\n",
    "    </li>\n",
    "    <li> Anche se i potenziali sono favorevoli per le riduzioni con 4 elettroni e 5 elettroni, il bromuro non ossida il cerio (III) in maniera significativa attraverso processi che coinvolgono 2 elettroni\n",
    "    </li>\n",
    "    <li> Tutte le specie radicaliche sono ossidanti più forti di tutte le specie singoletto in un processo a 1 elettrone\n",
    "    </li>\n",
    "    <li> Anche se la specie singoletto $HBrO_2$ può ossidare il cerio (III) in un processo a 2 elettroni, non è detto che reagisca direttamente con un singolo ione di cerio\n",
    "    </li>\n",
    "    <li> $HOBr$ non ossida il cerio(III) ad una velocità significante in un processo a 1 elettrone\n",
    "    </li>\n",
    "    <li> Le specie radicaliche possono ossidare il cerio (III)\n",
    "    </li>\n",
    "    <li> Le specie radicaliche possono ridurre il cerio (IV)\n",
    "    </li>\n",
    "</ul>"
   ]
  },
  {
   "cell_type": "markdown",
   "metadata": {},
   "source": [
    "## Cinetica della reazione "
   ]
  },
  {
   "cell_type": "markdown",
   "metadata": {},
   "source": [
    "#### Coefficienti di attività"
   ]
  },
  {
   "cell_type": "markdown",
   "metadata": {},
   "source": [
    "Sono state effettuate delle approssimazioni sui coefficienti di attività per descrivere il meccanismo di reazione, le convenzioni adottate per indicare le costanti di velocità sono:\n",
    "* con apice _0_ sono indicate le costanti estrapolate per infinite diluizioni di stati standard $1m$ o valori che coinvolgono solo specie neutre, in tutti questi casi gli effetti del coefficiente di attività sono trascurabili\n",
    "* con apice _'_ sono indicate le costanti per processi ionici misurate direttamente in forti ambienti acidi\n",
    "* con apice _*_ sono indicate le costanti di cui i valori che ci si aspetta in ambiente acido tenendo conto di assumere come $1$ i coefficienti di attività delle sostanze neutre e che gli ioni a singola carica abbiano coefficiente di attività pari a $0.7$"
   ]
  },
  {
   "cell_type": "markdown",
   "metadata": {},
   "source": [
    "#### cinetica R5"
   ]
  },
  {
   "cell_type": "markdown",
   "metadata": {},
   "source": [
    "Studiata attraverso tecniche di rilassamento, ha portato ai seguenti risutati:\n",
    "\n",
    "- $K^0_1 = 1.6 \\cdot 10^9$ $M^{-2}s^{-1}$\n",
    "- $K^*_1 = 8 \\cdot 10^9$ $M^{-2}s^{-1}$\n",
    "- $K^0_{-1} = 110$ $s^{-1}$"
   ]
  },
  {
   "cell_type": "markdown",
   "metadata": {},
   "source": [
    "#### cinetica R7"
   ]
  },
  {
   "cell_type": "markdown",
   "metadata": {},
   "source": [
    "Questa reazione dà inizio al processo complessivo ed è determinante per la velocità del meccanismo. Inoltre la velocità di questa reazione è indipendente dalla concentrazione di acido malonico e di cerio (III) (riferimento alla reazione _R2_); tutto questo porta alle seguenti costanti cinetiche:\n",
    "\n",
    "* $BrO_3^- + 5Br^- + 6H^+ \\rightarrow 3Br_2 + 3H_2O$\n",
    "\n",
    "\n",
    "- $K_3^{'} = 2.1 \\cdot 10^{-3}$ $s^{-1}$\n",
    "- $K^o_{-3} = 1.0 \\cdot 10^4$ $M^{-1}s^{-1}$"
   ]
  },
  {
   "cell_type": "markdown",
   "metadata": {},
   "source": [
    "#### cinetica R6"
   ]
  },
  {
   "cell_type": "markdown",
   "metadata": {},
   "source": [
    "* $2HOBr \\rightarrow HBrO_2 + Br^- + H^+$\n",
    "* $HOBr + Br^- + H^+ \\rightarrow Br_2 + H_2O$\n",
    "* $2HBrO_2 \\rightarrow BrO_3^- + HOBr + H^+$\n",
    "\n",
    "Le analisi termodinamiche e cinetiche fin'ora discusse impongono che questa reazione avvenga in un tempo molto più breve rispetto alla _-R7_, questo è messo in evidenza dal fatto che _R6_ è di secondo ordine rispetto alla concentrazione di $HOBr$.\n",
    "\n",
    "- $K^*_2 = 2 \\cdot 10^9$ $M^{-2}s^{-1}$\n",
    "- $K^0_{-2} = 5 \\cdot 10^{-5}$ $M^{-1}s^{-1}$"
   ]
  },
  {
   "cell_type": "markdown",
   "metadata": {},
   "source": [
    "#### cinetica R9"
   ]
  },
  {
   "cell_type": "markdown",
   "metadata": {},
   "source": [
    "* $BrO_3^- + HBrO_2 + H^+ \\rightarrow Br_2O_4 + H_2O$\n",
    "* $Br_2O_4 \\rightarrow 2BrO_2\\cdot$\n",
    "\n",
    "Questa reazione è stata studiata attraverso la radiologia impulsiva e ha portato a concludere che, a differenza di quando è presente $Br_2$, una volta formato $Br_2O_4$, questo tende molto più facilmente a dissociare piuttosto che dismutare.\n",
    "\n",
    "- $K^0_5 = 1.1 \\cdot 10^6$ $s^{-1}$\n",
    "\n",
    "I dati raccolti indicano che è presente un passaggio diretto di un ossigeno tra $HBrO_2$ e $HBrO_3$, o che questo step avviene attraverso la reazione _R9_, quest'ultima affermazione è necessaria per motivare la cinetica del cerio (III)."
   ]
  },
  {
   "cell_type": "markdown",
   "metadata": {},
   "source": [
    "#### cinetica R8"
   ]
  },
  {
   "cell_type": "markdown",
   "metadata": {},
   "source": [
    "- $BrO_3^- + HBrO_2 + H^+ \\rightarrow 2BrO_2\\cdot + H_2O$\n",
    "\n",
    "\n",
    "10. $BrO_2\\cdot + Ce^{3+} + H^+ \\rightarrow HBrO_2 + Ce^{4+}$\n",
    "\n",
    "\n",
    "- $2HBrO_2 \\rightarrow BrO_3^- + HOBr + H^+$"
   ]
  },
  {
   "cell_type": "markdown",
   "metadata": {},
   "source": [
    "In presenza di una concentrazione sufficientemente grande di uno qualsiasi tra questi deboli riducenti: _Ce(III)_, _Mn(II)_ o _Np(V)_ lo ione bromato è ridotto con cinetica di secondo ordine rispetto alla concentrazione di $BrO_3^-$ e indipendente dalla concentrazione e natura del riducente. Uno stato stazionario è raggiunto in modo che:\n",
    "\n",
    "- $[HBrO_2] = (K_2/2K_4) [BrO_3^-][H^+]$\n",
    "\n",
    "Questo produce i seguenti risultati:\n",
    "\n",
    "- $K^0_4 = 4 \\cdot 10^7 $ $M^{-1}s^{-1}$\n",
    "- $K^*_{-4} = 2 \\cdot 10^{-10}$ $M^{-2}s^{-1}$\n",
    "\n",
    "Da notare che dati i valori dei moduli delle costanti diretta e inversa, la specie $HBrO_2$ sarà sempre ad una concentrazione molto bassa in soluzioni acide, a meno che non sia prodotta ad altissime velocità"
   ]
  },
  {
   "cell_type": "markdown",
   "metadata": {},
   "source": [
    "#### cinetica R11"
   ]
  },
  {
   "cell_type": "markdown",
   "metadata": {},
   "source": [
    "11. $BrO_2\\cdot + Ce^{4+} + H_2O \\rightarrow BrO_3^- + Ce^{3+} + 2H^+$\n",
    "\n",
    "Da studi effettuati si nota che il questo sistema, l'unica specie in grado di ridurre efficacemente il cerio (VI) è la specie radicalica $BrO_2\\cdot$. Questo implica anche che la velocità di riduzione del cerio (VI) da parte della specie $HOBr$ e la velocità di ossidazione del $Br^-$ da parte della specie cerio (VI) sono entrambi troppo lenti per essere significativi nel sistema studiato."
   ]
  },
  {
   "cell_type": "markdown",
   "metadata": {},
   "source": [
    "#### cinetica R12"
   ]
  },
  {
   "cell_type": "markdown",
   "metadata": {},
   "source": [
    "12. $Br_2 + CH_2(COOH)_2 \\rightarrow BrCH(COOH)_2 + Br^- + H^+$\n",
    "\n",
    "L'enolazione è acido catalizzata e la cinetica dipende sia dalla concentrazione di acido malonico, sia dalla concentrazione di ioni $H^+$ in soluzione, la costante che si ricava ha modulo:\n",
    "\n",
    "- $K^0_8 = 1.3 \\cdot 10^{-2}$ $M^{-1}s^{-1}$"
   ]
  },
  {
   "cell_type": "markdown",
   "metadata": {},
   "source": [
    "#### cinetica R13"
   ]
  },
  {
   "cell_type": "markdown",
   "metadata": {},
   "source": [
    "13. $CH_2(COOH)_2 + 6Ce^{4+} + 2H_2O \\rightarrow 6Ce^{3+} + HCOOH + 2CO_2 + 6H^+$\n",
    "\n",
    "Dalle analisi si è dedotto che la reazione è di primo ordine nei confronti dell'ossidante, ed è inizializzata da una reazione unimolecolare (che ne determina la velocità) di un complesso del cerio con l'acido malonico\n",
    "\n",
    "- $K^{'}_9 = 8.8 \\cdot 10^{-2}$ $s^{-1}$\n",
    "- $K{''}_9 = 0.53$ $M$"
   ]
  },
  {
   "cell_type": "markdown",
   "metadata": {},
   "source": [
    "#### cinetica R14"
   ]
  },
  {
   "cell_type": "markdown",
   "metadata": {},
   "source": [
    "14. $4Ce^{4+} + BrCH(COOH)_2 + 2H_2O \\rightarrow Br^- + 4Ce^{3+} + HCOOH + 2CO_2 + 5H^+$\n",
    "\n",
    "Questa reazione è importante per il sistema perchè evidenzia come il cerio (VI) abbia la capacità di liberare la specie riducente $Br^-$ \n",
    "\n",
    "- $K^{'}_{10} = 1.7 \\cdot 10^{-2}$ $s^{-1}$\n",
    "- $K^{''}_{10} = 0.20$ $M$"
   ]
  },
  {
   "cell_type": "markdown",
   "metadata": {},
   "source": [
    "### Meccanismo di reazione"
   ]
  },
  {
   "cell_type": "markdown",
   "metadata": {},
   "source": [
    "5. $HOBr + Br^- + H^+ \\leftrightarrow Br_2 + H_2O$\n",
    "6. $HBrO_2 + Br^- + H^+ \\rightarrow 2HOBr$\n",
    "7. $BrO_3^- + Br^- + 2H^+ \\rightarrow HBrO_2 + HOBr$\n",
    "8. $2HBrO_2 \\rightarrow BrO_3^- + HOBr + H^+$\n",
    "9. $BrO_3^- + HBrO_2 + H^+ \\leftrightarrow 2BrO_2\\cdot + H_2O$\n",
    "10. $BrO_2\\cdot + Ce^{3+} + H^+ \\leftrightarrow HBrO_2 + Ce^{4+}$\n",
    "11. $BrO_2\\cdot + Ce^{4+} + H_2O \\rightarrow BrO_3^- + Ce^{3+} + 2H^+$\n",
    "12. $Br_2 + CH_2(COOH)_2 + 2H_2O \\rightarrow BrCH(COOH)_2 + Br^- + H^+$\n",
    "13. $6Ce^{4+} + CH_2(COOH)_2 + 2H_2O \\rightarrow 6Ce^{3+} + HCOOH + 2CO_2 + 6H^+$\n",
    "14. $4Ce^{4+} + BrCH(COOH)_2 + 2H_2O \\rightarrow Br^- + 4Ce^{3+} + HCOOH + 2CO_2 + 5H^+$"
   ]
  },
  {
   "cell_type": "markdown",
   "metadata": {},
   "source": [
    "## Simulazione della cinetica"
   ]
  },
  {
   "cell_type": "markdown",
   "metadata": {},
   "source": [
    "### FKN model"
   ]
  },
  {
   "cell_type": "markdown",
   "metadata": {},
   "source": [
    "#### Classificazione dei reagenti"
   ]
  },
  {
   "cell_type": "markdown",
   "metadata": {},
   "source": [
    "Per calcolare le velocità di queste $10$ reazioni postulate nel meccanismo, in linea teorica bisognerebbe sapere la concentrazione di $11$ specie chimiche, in pratica questo può essere evitato sulla base delle assunzioni di stati stazionari e equilibri molto rapidi, che permettono una riduzione dei gradi di libertà necessari.\n",
    "Nel modello _FKN_ è necessario specificare le concentrazioni di $7/8$ specie chimiche chiamati: \n",
    "\n",
    "- _reagenti principali_, la concentrazione di queste specie può essere variata indipendentemente, ma subisce piccole perturbazioni durante ogni oscillazione\n",
    "    * $[BrO_3^-]$\n",
    "    * $[CH_2(COOH)_2]$\n",
    "    * $[BrCH(COOH)_2]$\n",
    "    * $[H^+]$\n",
    "    * $[Ce^{3+}] + [Ce^{4+}]$\n",
    "- _reagenti di riferimento_\n",
    "    * $[Br^-]$\n",
    "    * $[Ce^{4+}]$\n",
    "    "
   ]
  },
  {
   "cell_type": "markdown",
   "metadata": {},
   "source": [
    "Gli altri reagenti vengono chiamati _reagenti derivati_ e le loro concentrazioni possono essere ricavate conoscendo le concentrazioni dei reagenti principali e dei reagenti di riferimento. Si potrà sempre assumere che:\n",
    "\n",
    "- $[Br_2] = \\frac{K_1[H^+][Br^-]}{1+K_1[H^+][Br^-]}([HOBr]+[Br_2])$\n",
    "- $[HOBr] = \\frac{1}{1+K_1[H^+][Br^-]}([HOBr][Br_2])$\n",
    "\n",
    "In conclusione dato che $K_1>>1$ si potrà assumere che nel sistema sarà presente solo $[Br_2]$"
   ]
  },
  {
   "cell_type": "markdown",
   "metadata": {},
   "source": [
    "L'approssimazione di stato stazionario può essere valida per la specie transiente $BrO_2\\cdot$:\n",
    "\n",
    "- $\\frac{d[BrO_2\\cdot]}{dt} = 2v_{9} - v_{10} - v_{11} = 0$\n",
    "\n",
    "Un ulteriore approssimazione che può essere fatta è ignorare il contributo di $-R9$, ottenendo quindi:\n",
    "\n",
    "- $[BrO_2\\cdot] = \\frac{2K_5[BrO_3^-][H^+]+K_6[Ce^{4+}]}{K_{-6}[Ce^{3+}][H^+]+ K_7[Ce^4+]}[HBrO_2]$\n"
   ]
  },
  {
   "cell_type": "markdown",
   "metadata": {},
   "source": [
    "Se queste approssimazioni sono valide, allora si può ricavare la concentrazione della specie $[HBrO_2]$ secondo:\n",
    "\n",
    "- $\\frac{d[HBrO_2]}{dt} = -v_6 + v_7 -2v_8 - v_9 + v_{10} = -\\alpha [HBrO_2]^2 - \\beta [HBrO_2] + \\gamma$\n",
    "     * $\\alpha = 2K_4$\n",
    "     * $\\beta = K_2[Br^-][H^+]-\\frac{K_5[BrO_3^-][H^+](K_6[Ce^{3+}][H^+]-K_7[Ce^{4+}])- K_{-6}K_7[Ce^{4+}]^2}{K_6[Ce^{3+}][H^+]+K_7[Ce^{4+}]}$\n",
    "     * $\\gamma = K_3[BrO_3^-][Br^-][H^+]^2$"
   ]
  },
  {
   "cell_type": "markdown",
   "metadata": {},
   "source": [
    "Anche a questa specie si può applicare un'approssimazione di stato stazionario:\n",
    "\n",
    "<ul>\n",
    "    <li> <div style='width:50%; display:inline-block; text-align:left;'> $[HBrO_2]_{ss} = \\frac{\\beta}{2\\alpha}(-1+\\sqrt{1+4\\alpha\\gamma/\\beta^2})\\approx \\frac{\\gamma}{\\beta}$ </div> <div style='width:49%; display:inline-block; text-align:left'>$\\beta > 0$</div> \n",
    "    </li>\n",
    "    <li> <div style='width:50%; display:inline-block; text-align:left;'> $[HBrO_2]_{ss} = \\frac{\\beta}{2\\alpha}(-1-\\sqrt{1+4\\alpha\\gamma/\\beta^2})\\approx \\frac{-\\beta}{\\alpha}$ </div> <div style='width:49%; display:inline-block; text-align:left'>$\\beta < 0$</div> \n",
    "    </li>\n",
    "</ul>"
   ]
  },
  {
   "cell_type": "markdown",
   "metadata": {},
   "source": [
    "#### evoluzione nel tempo delle concentrazioni dei reagenti principali"
   ]
  },
  {
   "cell_type": "markdown",
   "metadata": {},
   "source": [
    "Usando i risultati sopra ottenuti possiamo dedurre le seguenti relazioni per i reagenti principali:\n",
    "\n",
    "- $\\frac{d[BrO_3^-]}{dt} = -v_7 + v_8 - v_9 + v_{10} = - v_6 - v_8$\n",
    "- $\\frac{d[MA]}{dt} = - v_{11} - v_{14}$\n",
    "- $\\frac{d[BrMA]}{dt} = v_{12} - v_{14}$"
   ]
  },
  {
   "cell_type": "markdown",
   "metadata": {},
   "source": [
    "La specie $H^+$ è di triviale importanza data la sua elevatissima concentrazione, mentre la concentrazione totale di tutte le specie del cerio rimane costante (effetto catalitico) durante la reazione.\n",
    "Questo mostra come i reagenti principali abbiano un comportamento chimico nella norma, le loro funzioni sono monotone, al contrario i ragenti di riferimento presentano le oscillazioni che hanno reso famosa questa reazione."
   ]
  },
  {
   "cell_type": "markdown",
   "metadata": {},
   "source": [
    "#### evoluzione nel tempo delle concentrazioni dei reagenti di riferimento"
   ]
  },
  {
   "cell_type": "markdown",
   "metadata": {},
   "source": [
    "Per descrivere l'evoluzione nel tempo di questi reagenti dobbiamo premettere alcune ipotesi.\n",
    "\n",
    "Per quanto riguarda l'andamento delle specie $[HOBr]+[Br_2]$ considerato il tempo $t_0$ in cui le specie indicate sono presenti in quantità approssimabili, ma che stanno per diventare significative ad un tempo $t>t_0$ si ha:\n",
    "\n",
    "- $\\int (2v_5 + v_6 + v_7 - K_8[H^+][MA])dt > 0$"
   ]
  },
  {
   "cell_type": "markdown",
   "metadata": {},
   "source": [
    "Il valore $t_0$ corrisponde al tempo in cui l'integrale cambia di segno da negativo a positivo. Come si è enfatizzato nei ragionamenti precedenti la concentrazione di $[HOBr]$ è sempre una frazione molto piccola rispetto a quella di $Br_2$"
   ]
  },
  {
   "cell_type": "markdown",
   "metadata": {},
   "source": [
    "Passiamo ora ad analizzare l'evoluzione nel tempo della specie $Ce^{4+}$. Le approssimazioni di stato stazionario indicate sopra portano alla seguente relazione:\n",
    "\n",
    "- $\\frac{d[Ce^{4+}]}{dt} = -\\frac{d[Ce^{3+}]}{dt}= -v_6 - v_7 + v_{14}$\n",
    "\n",
    "Durante il periodo di induzione si potrà assumere uno stato stazionario imponendo la condizione $\\frac{d[Ce^{4+}]}{dt}= 0$, negli altri intervalli della reazione non sarà possibile effettuare questa approssimazione."
   ]
  },
  {
   "cell_type": "markdown",
   "metadata": {},
   "source": [
    "Infine analizziamo il comportamento del reagente di riferimento più importante, $Br^-$. Il meccanismo sviluppato per questa reazione prevede due situazioni distinte per descriverne il comportamento:\n",
    "\n",
    "<ul>\n",
    "    <li> <div style='width:50%; display:inline-block; text-align:left;'> $\\frac{d[Br^-]}{dt}=-v_6 - v_7 + v_{14}$ </div> <div style='width:49%; display:inline-block; text-align:left'>$[Br_2] \\approx 0$</div> \n",
    "    </li>\n",
    "    <li> <div style='width:50%; display:inline-block; text-align:left;'> $\\frac{d[Br^-]}{dt}=-3v_6 - 2v_7 - v_5 + K_8[H^+][MA] + v_{14}$ </div> <div style='width:49%; display:inline-block; text-align:left'>$[Br_2] > 0$</div> \n",
    "    </li>\n",
    "</ul>"
   ]
  },
  {
   "cell_type": "markdown",
   "metadata": {},
   "source": [
    "$\\beta$ cambia di segno in funzione della concentrazione di $Br^-$, possiamo quindi determinare il valore critico di quest'ultimo attraverso:\n",
    "\n",
    "- $[Br^-]_{crit} = \\frac{K_5[BrO_3^-][H^+](K_6[Ce^{3+}][H^+]-K_7[Ce^{4+}])-K_{-6}K_7[Ce^{4+}]^2}{K_2[H^+](K_6[Ce^{3+}][H^+]+K_7[Ce^{4+}])}$"
   ]
  },
  {
   "cell_type": "markdown",
   "metadata": {},
   "source": [
    "Quando $Ce^{4+}$ è presente nell'ambiente di reazione mentre la specie $Br_2$ non lo è, (in accordo con la terzultima equazione) si può applicare un'approssimazione di stato stazionario che porta alla seguenbte relazione:\n",
    "\n",
    "- $[Br^-]_{ss} = \\frac{K_{10}[BrMA][Ce^{4+}]}{(K^{''}_{10}+[BrMA])(K_2[HBrO_2][H^+]+K_3[BrO_3^-][H^+]^2)}$"
   ]
  },
  {
   "cell_type": "markdown",
   "metadata": {},
   "source": [
    "### Oregonator model"
   ]
  },
  {
   "cell_type": "markdown",
   "metadata": {},
   "source": [
    "Lo studio di questa reazione ha portato allo sviluppo di un modello matematico basato su 5 reazioni:\n",
    "\n",
    "1. $A + Y \\leftrightarrow X$\n",
    "2. $X + Y \\leftrightarrow P$\n",
    "3. $B + X \\leftrightarrow 2X + Z$\n",
    "4. $2X \\leftrightarrow Q$\n",
    "5. $Z \\leftrightarrow fY$"
   ]
  },
  {
   "cell_type": "markdown",
   "metadata": {},
   "source": [
    "Per cui si ottiene la reazione complessiva:\n",
    "\n",
    "6. $fA + 2B \\leftrightarrow fP + Q$"
   ]
  },
  {
   "cell_type": "markdown",
   "metadata": {},
   "source": [
    "Questo modello può essere correlato al meccanismo di reazione assumendo che le equazioni da 1 a 5 siano irreversibili e imponendo le identità:\n",
    "\n",
    "- $X = HBrO_2$\n",
    "- $Y = Br^-$\n",
    "- $Z = Ce^{4+}$\n",
    "\n",
    "Inoltre, considerando gli effetti dell'ambiente acido inclusi nelle costanti di reazione si ottiene:\n",
    "\n",
    "- $A = B = BrO_3^-$"
   ]
  },
  {
   "cell_type": "markdown",
   "metadata": {},
   "source": [
    "La cinetica può essere quindi studiata attraverso le relazioni:\n",
    "\n",
    "7. $\\frac{dX}{dt} = k_1 A Y - k_2 X Y + k_3 B X - 2k_4 X^2$\n",
    "8. $\\frac{dY}{dt} = - k_1 A Y + k_2 X Y + fk_5 Z$\n",
    "9. $\\frac{dZ}{dt} = k_3 B X - k_5 Z$"
   ]
  },
  {
   "cell_type": "markdown",
   "metadata": {},
   "source": [
    "#### valori per la simulazione"
   ]
  },
  {
   "cell_type": "markdown",
   "metadata": {},
   "source": [
    "Si sono assunti i seguenti valori per la simulazione di questo meccanismo:\n",
    "\n",
    "- $[BrO_3^-] = 0.06$ $M$\n",
    "- $[H^+] = 0.8$ $M$\n",
    "\n",
    "\n",
    "* $k_1 = K_3 [H^+]^2 = 1.34$ $M^{-1}s^{-1}$\n",
    "* $k_2 = K_2 [H^+] = 1.6 \\cdot 10^9$ $M^{-1}s^{-1}$\n",
    "* $k_3 = K_5 [H^+] = 8 \\cdot 10^6$ $M^{-1}s^{-1}$\n",
    "* $k_4 = K_4 = 4 \\cdot 10^7$ $M^{-1}s^{-1}$\n",
    "\n",
    "\n",
    "- $k_5 = 1$ $s^{-1}$, costante arbitraria\n",
    "- $f = 1$, costante arbitraria"
   ]
  },
  {
   "cell_type": "markdown",
   "metadata": {},
   "source": [
    "Per ragioni computazionali si possono trasformare le equazioni 7, 8, 9 in equazioni a variabili adimensionali $\\alpha$, $\\eta$, $\\rho$ e $\\tau$ e costanti $q$, $s$, $w$, che enfatizzano la generalità di questo modello.\n",
    "\n",
    "10. $\\frac{d\\alpha}{d\\tau} = s(\\eta - \\eta\\alpha + \\alpha - q\\alpha^2)$\n",
    "11. $\\frac{d\\eta}{d\\tau} = s^{-1}(- \\eta - \\eta\\alpha + f\\rho)$\n",
    "12. $\\frac{d\\rho}{d\\tau} = w(\\alpha - \\rho)$"
   ]
  },
  {
   "cell_type": "markdown",
   "metadata": {},
   "source": [
    "dove si ha:\n",
    "\n",
    "- $[HBrO_2] = X = \\frac{k_1 A}{k_2}\\alpha = 5.025 \\cdot 10^{-11} \\alpha$\n",
    "- $[Br^-] = Y = \\frac{k_3 B}{k_2} \\eta = 3.000 \\cdot 10^{-7} \\eta$\n",
    "- $[Ce^{4+}] = Z = \\frac{k_1 k_3}{k_2 k_5} A B \\rho = 2.412 \\cdot 10^{-8} \\rho$\n",
    "- $t = \\frac{\\tau}{\\sqrt{k_1 k_3 A B}} = 0.1610 \\tau$\n",
    "- $s = \\sqrt{\\frac{k_3 B}{k_1 A}} = 77.27$\n",
    "- $w = \\frac{k_5}{\\sqrt{k_1 k_3 A B}} = 0.1610$\n",
    "- $q = \\frac{2k_1 k_4 A}{k_2 k_3 B} = 8.375 \\cdot 10^{-6}$"
   ]
  },
  {
   "cell_type": "markdown",
   "metadata": {},
   "source": [
    "Nello stato stazionario dove valgono le eguaglianze $\\frac{d\\alpha}{d\\tau} = \\frac{d\\eta}{d\\tau} = \\frac{d\\rho}{d\\tau} = 0$ e si impone $f = 1$, si ottengono i seguenti valori:\n",
    "\n",
    "- $\\alpha_{ss} = \\rho_{ss} = 488.68$\n",
    "- $\\eta_{ss} = 0.99796$"
   ]
  },
  {
   "cell_type": "markdown",
   "metadata": {},
   "source": [
    "Per evitare errori di arrotondamento dovuti alla limitatezza della memoria del calcolatore si impone: $\\frac{d\\alpha}{d\\tau} = 0$, quando $\\alpha$ e $\\frac{d\\alpha}{d\\tau}$ oscillano durante l'integrazione. Questo equivale ad assumere un'approssimazione di stato stazionario quando la concentrazione di $HBrO_2(\\alpha)$ è nell'ordine di $10^{-6}$ rispetto a quella di $Br^-(\\eta)$"
   ]
  },
  {
   "cell_type": "markdown",
   "metadata": {},
   "source": [
    "### Implementazione in python"
   ]
  },
  {
   "cell_type": "code",
   "execution_count": 1,
   "metadata": {},
   "outputs": [],
   "source": [
    "#importo le librerie per la simulazione\n",
    "%matplotlib inline\n",
    "\n",
    "from math import *\n",
    "from random import *\n",
    "import numpy as np\n",
    "import scipy as sc\n",
    "import matplotlib.pyplot as plt"
   ]
  },
  {
   "cell_type": "code",
   "execution_count": 801,
   "metadata": {},
   "outputs": [],
   "source": [
    "#definisco le costanti cinetiche\n",
    "\n",
    "k1 = 1.34\n",
    "k2 = 1.6e9\n",
    "k3 = 8e6\n",
    "k4 = 4e7\n",
    "k5 = 1.0"
   ]
  },
  {
   "cell_type": "code",
   "execution_count": 802,
   "metadata": {},
   "outputs": [],
   "source": [
    "#definisco i composti da studiare\n",
    "\n",
    "#[BrO3-]\n",
    "A = 0.06\n",
    "B = A\n",
    "\n",
    "#[HBrO2]\n",
    "x = 0.0\n",
    "\n",
    "#[Br-]\n",
    "Y = 0.0\n",
    "\n",
    "#[Ce(IV)]\n",
    "Z = 0.0"
   ]
  },
  {
   "cell_type": "code",
   "execution_count": 803,
   "metadata": {},
   "outputs": [],
   "source": [
    "#definisco le costanti per le equazioni  differenziali adimensionali\n",
    "\n",
    "s = 77.27\n",
    "w = 0.1610\n",
    "q = 8.375e-6"
   ]
  },
  {
   "cell_type": "code",
   "execution_count": 804,
   "metadata": {},
   "outputs": [],
   "source": [
    "#definisco le equazioni differenziali r10 - r12\n",
    "def oregonator(var, t):\n",
    "    \n",
    "    dadt = s * (var[1] - var[0]*var[1] + var[0] - q*var[0]**2)\n",
    "    dndt = (1.0/s) * (- var[1] - var[0]*var[1] + var[2])\n",
    "    drdt = w * (var[0] - var[2])\n",
    "    \n",
    "    return [dadt, dndt, drdt]"
   ]
  },
  {
   "cell_type": "code",
   "execution_count": 805,
   "metadata": {},
   "outputs": [],
   "source": [
    "#integro le equazioni differenziali\n",
    "t = np.linspace(0, 600, 100000)\n",
    "var0 = [1,1,1]\n",
    "Cft = sc.integrate.odeint(oregonator, var0, t)\n",
    "\n",
    "\n",
    "a = Cft[:,0]\n",
    "n = Cft[:,1]\n",
    "r = Cft[:,2]\n",
    "\n",
    "la = np.zeros(len(a))\n",
    "ln = np.zeros(len(n))\n",
    "lr = np.zeros(len(r))\n",
    "\n",
    "for i in range(len(a)):\n",
    "    la[i] = log10(a[i])\n",
    "for i in range(len(n)):\n",
    "    ln[i] = log10(n[i])\n",
    "for i in range(len(r)):\n",
    "    lr[i] = log10(r[i])"
   ]
  },
  {
   "cell_type": "code",
   "execution_count": 980,
   "metadata": {},
   "outputs": [
    {
     "data": {
      "text/plain": [
       "Text(0, 0.5, 'Log[HBrO2](M)')"
      ]
     },
     "execution_count": 980,
     "metadata": {},
     "output_type": "execute_result"
    },
    {
     "data": {
      "image/png": "[encoded data removed]",
      "text/plain": [
       "<Figure size 432x288 with 1 Axes>"
      ]
     },
     "metadata": {
      "needs_background": "light"
     },
     "output_type": "display_data"
    }
   ],
   "source": [
    "plt.plot(t, la)\n",
    "plt.xlabel('time (s)')\n",
    "plt.ylabel('Log[HBrO2](M)')"
   ]
  },
  {
   "cell_type": "code",
   "execution_count": 981,
   "metadata": {},
   "outputs": [
    {
     "data": {
      "text/plain": [
       "Text(0, 0.5, 'Log[Br-](M)')"
      ]
     },
     "execution_count": 981,
     "metadata": {},
     "output_type": "execute_result"
    },
    {
     "data": {
      "image/png": "[encoded data removed]",
      "text/plain": [
       "<Figure size 432x288 with 1 Axes>"
      ]
     },
     "metadata": {
      "needs_background": "light"
     },
     "output_type": "display_data"
    }
   ],
   "source": [
    "plt.plot(t, ln)\n",
    "plt.xlabel('time (s)')\n",
    "plt.ylabel('Log[Br-](M)')"
   ]
  },
  {
   "cell_type": "code",
   "execution_count": 982,
   "metadata": {},
   "outputs": [
    {
     "data": {
      "text/plain": [
       "Text(0, 0.5, 'Log[Ce(IV)](M)')"
      ]
     },
     "execution_count": 982,
     "metadata": {},
     "output_type": "execute_result"
    },
    {
     "data": {
      "image/png": "[encoded data removed]",
      "text/plain": [
       "<Figure size 432x288 with 1 Axes>"
      ]
     },
     "metadata": {
      "needs_background": "light"
     },
     "output_type": "display_data"
    }
   ],
   "source": [
    "plt.plot(t, lr)\n",
    "plt.xlabel('time (s)')\n",
    "plt.ylabel('Log[Ce(IV)](M)')"
   ]
  },
  {
   "cell_type": "code",
   "execution_count": 983,
   "metadata": {},
   "outputs": [
    {
     "data": {
      "text/plain": [
       "Text(0, 0.5, 'Log[HBrO2](M)')"
      ]
     },
     "execution_count": 983,
     "metadata": {},
     "output_type": "execute_result"
    },
    {
     "data": {
      "image/png": "[encoded data removed]",
      "text/plain": [
       "<Figure size 432x288 with 1 Axes>"
      ]
     },
     "metadata": {
      "needs_background": "light"
     },
     "output_type": "display_data"
    }
   ],
   "source": [
    "plt.plot(ln, la)\n",
    "plt.xlabel('Log[Br-](M)')\n",
    "plt.ylabel('Log[HBrO2](M)')"
   ]
  },
  {
   "cell_type": "markdown",
   "metadata": {},
   "source": [
    "### Implementazione grafica"
   ]
  },
  {
   "cell_type": "markdown",
   "metadata": {},
   "source": []
  },
  {
   "cell_type": "code",
   "execution_count": 2,
   "metadata": {},
   "outputs": [],
   "source": [
    "#regole dell'algoritmo\n",
    "\n",
    "#(i) If the cell is healthy (i.e., in state 0) then its new state is [a/k1] + [b/k2], where a is the number of infected cells among its eight neighbors, b is the number of ill cells among its neighbors, and k1 and k2 are constants. Here \"[]\" means the integer part of the number enclosed, so that, for example, [7/3] = [2+1/3] = 2.\n",
    "#(ii) If the cell is ill (i.e., in state n) then it miraculously becomes healthy (i.e., its state becomes 0).\n",
    "#(iii) If the cell is infected (i.e., in a state other than 0 and n) then its new state is [s/(a+b+1)] + g, where a and b are as above, s is the sum of the states of the cell and of its neighbors and g is a constant."
   ]
  },
  {
   "cell_type": "code",
   "execution_count": 57,
   "metadata": {},
   "outputs": [],
   "source": [
    "l_finestra = 200 #pixel\n",
    "finestra = np.zeros(l_finestra**2)\n",
    "tot_pixel = l_finestra**2"
   ]
  },
  {
   "cell_type": "code",
   "execution_count": 58,
   "metadata": {},
   "outputs": [],
   "source": [
    "#creo un numero di n punti di partenza\n",
    "pixel_iniziali = l_finestra**2\n",
    "numero_di_stati = 200\n",
    "cellule_iniziali = np.zeros(l_finestra**2, dtype = np.int32)\n",
    "stato_iniziale_cellule = np.zeros(tot_pixel)\n",
    "seed(42) #life's answer\n",
    "\n",
    "for i in range(pixel_iniziali):\n",
    "    cellule_iniziali[i] = int(randint(0, l_finestra**2 - 1))\n",
    "for i in range(pixel_iniziali):\n",
    "    stato_iniziale_cellule[int(cellule_iniziali[i])] = 120#randint(0, numero_di_stati)"
   ]
  },
  {
   "cell_type": "code",
   "execution_count": 59,
   "metadata": {},
   "outputs": [],
   "source": [
    "def simulator(stato_cellule):\n",
    "    #definisco le costanti del problema\n",
    "    k1 = 2\n",
    "    k2 = 3\n",
    "    g = 70\n",
    "    valore_malattia_min = 100\n",
    "    valore_malattia_max = 120\n",
    "    valore_malattia = 200\n",
    "    \n",
    "    #raggruppo le cellule per stato: sano, infetto, malato\n",
    "    cellule_sane = np.zeros(len(stato_cellule))\n",
    "    cellule_malate = np.zeros(len(stato_cellule))\n",
    "    \n",
    "    cellule_infette = np.zeros(len(stato_cellule))\n",
    "    for i in range(len(stato_cellule)):\n",
    "        if(stato_cellule[i] == 0):\n",
    "            cellule_sane[i] = 1\n",
    "        if(stato_cellule[i] == valore_malattia): #> valore_malattia_min and stato_cellule[i] < valore_malattia_max\n",
    "            cellule_malate[i] = 1\n",
    "        if(stato_cellule[i] != valore_malattia  and stato_cellule[i] != 0): #(stato_cellule[i] <= valore_malattia_min or stato_cellule[i] >= valore_malattia_max)\n",
    "            cellule_infette[i] = 1        \n",
    "    \n",
    "    #determino lo stato successivo del sistema\n",
    "    nuovo_stato_cellule_sane = np.zeros(len(stato_cellule))\n",
    "    for i in range(len(stato_cellule)):\n",
    "        somma_cellule_infette_vicini = 0\n",
    "        somma_cellule_malate_vicini = 0\n",
    "        if(cellule_sane[i] == 1):\n",
    "            if (i-1) >= 0:\n",
    "                if(cellule_malate[i-1] == 1):\n",
    "                    somma_cellule_malate_vicini += 1\n",
    "                elif (cellule_infette[i-1] == 1):\n",
    "                    somma_cellule_infette_vicini += 1 \n",
    "            if (i+1) < len(stato_cellule):\n",
    "                if(cellule_malate[i+1] == 1):\n",
    "                    somma_cellule_malate_vicini += 1\n",
    "                elif (cellule_infette[i+1] == 1):\n",
    "                    somma_cellule_infette_vicini += 1     \n",
    "            for z in range(3):\n",
    "                if((i - (l_finestra - 1) - z) >= 0):\n",
    "                    if(cellule_malate[i - (l_finestra - 1) - z] == 1):\n",
    "                        somma_cellule_malate_vicini += 1\n",
    "                    elif cellule_infette[i - (l_finestra - 1) - z] == 1:\n",
    "                        somma_cellule_infette_vicini += 1 \n",
    "            for z in range(3):\n",
    "                if((i + (l_finestra - 1) + z) < len(stato_cellule)):\n",
    "                    if(cellule_malate[i + (l_finestra - 1) + z] == 1):\n",
    "                        somma_cellule_malate_vicini += 1\n",
    "                    elif cellule_infette[i + (l_finestra - 1) + z] == 1:\n",
    "                        somma_cellule_infette_vicini += 1 \n",
    "        nuovo_stato_cellule_sane[i] =  int(somma_cellule_malate_vicini / k1 + somma_cellule_infette_vicini / k2)\n",
    "    \n",
    "    nuovo_stato_cellule_infette = np.zeros(len(stato_cellule))\n",
    "    for i in range(len(stato_cellule)):\n",
    "        valore_cellule_malate_vicini = 0\n",
    "        valore_cellule_infette_vicini = 0\n",
    "        somma_cellule_infette_vicini = 0\n",
    "        somma_cellule_malate_vicini = 0\n",
    "        if(cellule_infette[i] == 1):\n",
    "            if((i-1) >= 0):\n",
    "                if(cellule_malate[i-1] == 1):\n",
    "                    valore_cellule_malate_vicini += stato_cellule[i-1]\n",
    "                    somma_cellule_malate_vicini += 1\n",
    "                elif(cellule_infette[i-1] == 1):\n",
    "                    valore_cellule_infette_vicini += stato_cellule[i-1]\n",
    "                    somma_cellule_infette_vicini += 1 \n",
    "            if((i+1) < len(stato_cellule)):\n",
    "                if(cellule_malate[i+1] == 1):\n",
    "                    valore_cellule_malate_vicini += stato_cellule[i+1]\n",
    "                    somma_cellule_malate_vicini += 1\n",
    "                elif(cellule_infette[i+1] == 1):\n",
    "                    valore_cellule_infette_vicini += stato_cellule[i+1]\n",
    "                    somma_cellule_infette_vicini += 1     \n",
    "            for z in range(3):\n",
    "                if((i - (l_finestra - 1) - z) >= 0):\n",
    "                    if(cellule_malate[i - (l_finestra - 1) - z] == 1):\n",
    "                        valore_cellule_malate_vicini += stato_cellule[i - (l_finestra - 1) - z]\n",
    "                        somma_cellule_malate_vicini += 1\n",
    "                    elif(cellule_infette[i - (l_finestra - 1) - z] == 1):\n",
    "                        valore_cellule_infette_vicini += stato_cellule[i - (l_finestra - 1) - z]\n",
    "                        somma_cellule_infette_vicini += 1 \n",
    "            for z in range(3):\n",
    "                if((i + (l_finestra - 1) + z) < len(stato_cellule)):\n",
    "                    if(cellule_malate[i + (l_finestra - 1) + z] == 1):\n",
    "                        valore_cellule_malate_vicini += stato_cellule[i + (l_finestra - 1) + z]\n",
    "                        somma_cellule_malate_vicini += 1\n",
    "                    elif(cellule_infette[i + (l_finestra - 1) + z] == 1):\n",
    "                        valore_cellule_infette_vicini += stato_cellule[i + (l_finestra - 1) + z]\n",
    "                        somma_cellule_infette_vicini += 1 \n",
    "        nuovo_stato_cellule_infette[i] = int(g + (stato_cellule[i] + valore_cellule_malate_vicini + valore_cellule_infette_vicini) / (somma_cellule_malate_vicini + somma_cellule_infette_vicini + 1))\n",
    "    \n",
    "    #step n+1 totale\n",
    "    nuovo_stato_sistema = np.zeros(len(stato_cellule))\n",
    "    for i in range(len(stato_cellule)):\n",
    "        if(cellule_malate[i] == 1):\n",
    "            nuovo_stato_sistema[i] = 0\n",
    "        elif (cellule_infette[i] == 1):\n",
    "            nuovo_stato_sistema[i] = nuovo_stato_cellule_infette[i]\n",
    "        else:\n",
    "            nuovo_stato_sistema[i] = nuovo_stato_cellule_sane[i]\n",
    "    for i in range(len(stato_cellule)):\n",
    "        if nuovo_stato_sistema[i] >= numero_di_stati-1:\n",
    "            nuovo_stato_sistema[i] = valore_malattia\n",
    "    return nuovo_stato_sistema"
   ]
  },
  {
   "cell_type": "code",
   "execution_count": 65,
   "metadata": {},
   "outputs": [
    {
     "name": "stdout",
     "output_type": "stream",
     "text": [
      "100 % | tempo trascorso: 513.8634955883026 s | frame_elaborati: 1000   \r"
     ]
    }
   ],
   "source": [
    "#impastiamo con cura\n",
    "import time\n",
    "numero_frame = 1000\n",
    "a = np.zeros((numero_frame, l_finestra**2))\n",
    "t0 = time.time()\n",
    "for i in range(numero_frame):\n",
    "    print(str(int(((i+1)/numero_frame)*100)) + \" % | tempo trascorso: \" + str(time.time() - t0) + \" s | \" + \"frame_elaborati: \" + str(i+1) + \"   \", end = '\\r', flush=True)\n",
    "    if i == 0:\n",
    "        a[i:] = simulator(stato_iniziale_cellule)\n",
    "    else:\n",
    "        a[i:] = simulator(a[i-1])\n"
   ]
  },
  {
   "cell_type": "code",
   "execution_count": 66,
   "metadata": {},
   "outputs": [],
   "source": [
    "def frame_immagine(risultati_sistema):\n",
    "    #print(risultati_sistema)\n",
    "    matrice_pixel = np.zeros((l_finestra, l_finestra))\n",
    "    matrice_valori = np.zeros((l_finestra, l_finestra))\n",
    "    for i in range(l_finestra):\n",
    "        for z in range(l_finestra):\n",
    "            #print(risultati_sistema[i*l_finestra + z])\n",
    "            if(risultati_sistema[i*l_finestra + z] > (numero_di_stati/2)):\n",
    "                matrice_pixel[i][z] = 1\n",
    "                matrice_valori[i][z] = risultati_sistema[i*l_finestra + z]\n",
    "            else:\n",
    "                matrice_pixel[i][z] = 0\n",
    "                matrice_valori[i][z] = risultati_sistema[i*l_finestra + z]\n",
    "    return matrice_valori#matrice_pixel"
   ]
  },
  {
   "cell_type": "code",
   "execution_count": 67,
   "metadata": {},
   "outputs": [
    {
     "name": "stdout",
     "output_type": "stream",
     "text": [
      "0 %\r"
     ]
    },
    {
     "data": {
      "image/png": "[encoded data removed]",
      "text/plain": [
       "<Figure size 756x756 with 1 Axes>"
      ]
     },
     "metadata": {
      "needs_background": "light"
     },
     "output_type": "display_data"
    }
   ],
   "source": [
    "from matplotlib import animation, rc\n",
    "from IPython.display import HTML\n",
    "from  matplotlib.animation import FuncAnimation\n",
    "\n",
    "plt.rcParams['animation.embed_limit'] = 2**128\n",
    "fig, ax = plt.subplots()\n",
    "fig.set_size_inches(10.5, 10.5, forward=True)\n",
    "plot = plt.imshow(frame_immagine(a[0]))\n",
    "\n",
    "def updatefig(j):\n",
    "    print(str(int(((j+1)/numero_frame)*100)) + \" %\", end = '\\r', flush=True)\n",
    "    plot.set_data(frame_immagine(a[j]))\n",
    "    return plot\n",
    "\n",
    "anim = FuncAnimation(fig, updatefig, frames = numero_frame, interval=50, blit=False)"
   ]
  },
  {
   "cell_type": "code",
   "execution_count": 1,
   "metadata": {},
   "outputs": [
    {
     "ename": "NameError",
     "evalue": "name 'HTML' is not defined",
     "output_type": "error",
     "traceback": [
      "\u001b[1;31m---------------------------------------------------------------------------\u001b[0m",
      "\u001b[1;31mNameError\u001b[0m                                 Traceback (most recent call last)",
      "\u001b[1;32m<ipython-input-1-3115c674a9d7>\u001b[0m in \u001b[0;36m<module>\u001b[1;34m\u001b[0m\n\u001b[1;32m----> 1\u001b[1;33m \u001b[0mHTML\u001b[0m\u001b[1;33m(\u001b[0m\u001b[0manim\u001b[0m\u001b[1;33m.\u001b[0m\u001b[0mto_jshtml\u001b[0m\u001b[1;33m(\u001b[0m\u001b[1;33m)\u001b[0m\u001b[1;33m)\u001b[0m\u001b[1;33m\u001b[0m\u001b[1;33m\u001b[0m\u001b[0m\n\u001b[0m",
      "\u001b[1;31mNameError\u001b[0m: name 'HTML' is not defined"
     ]
    }
   ],
   "source": [
    "HTML(anim.to_jshtml())"
   ]
  },
  {
   "cell_type": "code",
   "execution_count": null,
   "metadata": {},
   "outputs": [],
   "source": []
  }
 ],
 "metadata": {
  "kernelspec": {
   "display_name": "Python 3",
   "language": "python",
   "name": "python3"
  },
  "language_info": {
   "codemirror_mode": {
    "name": "ipython",
    "version": 3
   },
   "file_extension": ".py",
   "mimetype": "text/x-python",
   "name": "python",
   "nbconvert_exporter": "python",
   "pygments_lexer": "ipython3",
   "version": "3.7.2"
  }
 },
 "nbformat": 4,
 "nbformat_minor": 2
}
